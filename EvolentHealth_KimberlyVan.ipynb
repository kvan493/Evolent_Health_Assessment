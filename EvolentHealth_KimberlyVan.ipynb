{
  "nbformat": 4,
  "nbformat_minor": 0,
  "metadata": {
    "colab": {
      "name": "EvolentHealth_KimberlyVan.ipynb",
      "provenance": [],
      "collapsed_sections": [],
      "toc_visible": true
    },
    "kernelspec": {
      "name": "python3",
      "display_name": "Python 3"
    },
    "language_info": {
      "name": "python"
    }
  },
  "cells": [
    {
      "cell_type": "markdown",
      "metadata": {
        "id": "A6f-Kicb1dTG"
      },
      "source": [
        "## Importing libraries"
      ]
    },
    {
      "cell_type": "code",
      "metadata": {
        "id": "iKy2kN8meosr"
      },
      "source": [
        "import pandas as pd\n",
        "import numpy as np\n",
        "import matplotlib.pyplot as plt\n",
        "import nltk\n",
        "from textblob import TextBlob, Word\n",
        "from nltk.corpus import stopwords"
      ],
      "execution_count": 1,
      "outputs": []
    },
    {
      "cell_type": "markdown",
      "metadata": {
        "id": "Orx-GhvF1jeW"
      },
      "source": [
        "## Data Ingestion"
      ]
    },
    {
      "cell_type": "code",
      "metadata": {
        "colab": {
          "base_uri": "https://localhost:8080/"
        },
        "id": "66Lto1hzfxqY",
        "outputId": "a7d8b3bd-1605-414b-a7ec-9459335a4193"
      },
      "source": [
        "#Reading in data\n",
        "data = pd.read_csv('/content/drive/MyDrive/BeerDataScienceProject.csv', encoding = 'latin-1')\n",
        "data.info()"
      ],
      "execution_count": 2,
      "outputs": [
        {
          "output_type": "stream",
          "name": "stdout",
          "text": [
            "<class 'pandas.core.frame.DataFrame'>\n",
            "RangeIndex: 528870 entries, 0 to 528869\n",
            "Data columns (total 13 columns):\n",
            " #   Column              Non-Null Count   Dtype  \n",
            "---  ------              --------------   -----  \n",
            " 0   beer_ABV            508590 non-null  float64\n",
            " 1   beer_beerId         528870 non-null  int64  \n",
            " 2   beer_brewerId       528870 non-null  int64  \n",
            " 3   beer_name           528870 non-null  object \n",
            " 4   beer_style          528870 non-null  object \n",
            " 5   review_appearance   528870 non-null  float64\n",
            " 6   review_palette      528870 non-null  float64\n",
            " 7   review_overall      528870 non-null  float64\n",
            " 8   review_taste        528870 non-null  float64\n",
            " 9   review_profileName  528755 non-null  object \n",
            " 10  review_aroma        528870 non-null  float64\n",
            " 11  review_text         528751 non-null  object \n",
            " 12  review_time         528870 non-null  int64  \n",
            "dtypes: float64(6), int64(3), object(4)\n",
            "memory usage: 52.5+ MB\n"
          ]
        }
      ]
    },
    {
      "cell_type": "code",
      "metadata": {
        "colab": {
          "base_uri": "https://localhost:8080/"
        },
        "id": "G4k0OGPaIW_a",
        "outputId": "de9ef587-20dd-45eb-f29e-81ad45e72310"
      },
      "source": [
        "#Viewing any explanatory variables containing null values\n",
        "data.isnull().sum()"
      ],
      "execution_count": 3,
      "outputs": [
        {
          "output_type": "execute_result",
          "data": {
            "text/plain": [
              "beer_ABV              20280\n",
              "beer_beerId               0\n",
              "beer_brewerId             0\n",
              "beer_name                 0\n",
              "beer_style                0\n",
              "review_appearance         0\n",
              "review_palette            0\n",
              "review_overall            0\n",
              "review_taste              0\n",
              "review_profileName      115\n",
              "review_aroma              0\n",
              "review_text             119\n",
              "review_time               0\n",
              "dtype: int64"
            ]
          },
          "metadata": {},
          "execution_count": 3
        }
      ]
    },
    {
      "cell_type": "code",
      "metadata": {
        "colab": {
          "base_uri": "https://localhost:8080/",
          "height": 505
        },
        "id": "GW3XueoMgdJP",
        "outputId": "725f7f88-e18e-40e8-ffba-cad4573f9628"
      },
      "source": [
        "#Viewing the first 5 entries of data\n",
        "data.head()"
      ],
      "execution_count": 4,
      "outputs": [
        {
          "output_type": "execute_result",
          "data": {
            "text/html": [
              "<div>\n",
              "<style scoped>\n",
              "    .dataframe tbody tr th:only-of-type {\n",
              "        vertical-align: middle;\n",
              "    }\n",
              "\n",
              "    .dataframe tbody tr th {\n",
              "        vertical-align: top;\n",
              "    }\n",
              "\n",
              "    .dataframe thead th {\n",
              "        text-align: right;\n",
              "    }\n",
              "</style>\n",
              "<table border=\"1\" class=\"dataframe\">\n",
              "  <thead>\n",
              "    <tr style=\"text-align: right;\">\n",
              "      <th></th>\n",
              "      <th>beer_ABV</th>\n",
              "      <th>beer_beerId</th>\n",
              "      <th>beer_brewerId</th>\n",
              "      <th>beer_name</th>\n",
              "      <th>beer_style</th>\n",
              "      <th>review_appearance</th>\n",
              "      <th>review_palette</th>\n",
              "      <th>review_overall</th>\n",
              "      <th>review_taste</th>\n",
              "      <th>review_profileName</th>\n",
              "      <th>review_aroma</th>\n",
              "      <th>review_text</th>\n",
              "      <th>review_time</th>\n",
              "    </tr>\n",
              "  </thead>\n",
              "  <tbody>\n",
              "    <tr>\n",
              "      <th>0</th>\n",
              "      <td>5.0</td>\n",
              "      <td>47986</td>\n",
              "      <td>10325</td>\n",
              "      <td>Sausa Weizen</td>\n",
              "      <td>Hefeweizen</td>\n",
              "      <td>2.5</td>\n",
              "      <td>2.0</td>\n",
              "      <td>1.5</td>\n",
              "      <td>1.5</td>\n",
              "      <td>stcules</td>\n",
              "      <td>1.5</td>\n",
              "      <td>A lot of foam. But a lot. In the smell some ba...</td>\n",
              "      <td>1234817823</td>\n",
              "    </tr>\n",
              "    <tr>\n",
              "      <th>1</th>\n",
              "      <td>6.2</td>\n",
              "      <td>48213</td>\n",
              "      <td>10325</td>\n",
              "      <td>Red Moon</td>\n",
              "      <td>English Strong Ale</td>\n",
              "      <td>3.0</td>\n",
              "      <td>2.5</td>\n",
              "      <td>3.0</td>\n",
              "      <td>3.0</td>\n",
              "      <td>stcules</td>\n",
              "      <td>3.0</td>\n",
              "      <td>Dark red color, light beige foam, average. In ...</td>\n",
              "      <td>1235915097</td>\n",
              "    </tr>\n",
              "    <tr>\n",
              "      <th>2</th>\n",
              "      <td>6.5</td>\n",
              "      <td>48215</td>\n",
              "      <td>10325</td>\n",
              "      <td>Black Horse Black Beer</td>\n",
              "      <td>Foreign / Export Stout</td>\n",
              "      <td>3.0</td>\n",
              "      <td>2.5</td>\n",
              "      <td>3.0</td>\n",
              "      <td>3.0</td>\n",
              "      <td>stcules</td>\n",
              "      <td>3.0</td>\n",
              "      <td>Almost totally black. Beige foam, quite compac...</td>\n",
              "      <td>1235916604</td>\n",
              "    </tr>\n",
              "    <tr>\n",
              "      <th>3</th>\n",
              "      <td>5.0</td>\n",
              "      <td>47969</td>\n",
              "      <td>10325</td>\n",
              "      <td>Sausa Pils</td>\n",
              "      <td>German Pilsener</td>\n",
              "      <td>3.5</td>\n",
              "      <td>3.0</td>\n",
              "      <td>3.0</td>\n",
              "      <td>2.5</td>\n",
              "      <td>stcules</td>\n",
              "      <td>3.0</td>\n",
              "      <td>Golden yellow color. White, compact foam, quit...</td>\n",
              "      <td>1234725145</td>\n",
              "    </tr>\n",
              "    <tr>\n",
              "      <th>4</th>\n",
              "      <td>7.7</td>\n",
              "      <td>64883</td>\n",
              "      <td>1075</td>\n",
              "      <td>Cauldron DIPA</td>\n",
              "      <td>American Double / Imperial IPA</td>\n",
              "      <td>4.0</td>\n",
              "      <td>4.5</td>\n",
              "      <td>4.0</td>\n",
              "      <td>4.0</td>\n",
              "      <td>johnmichaelsen</td>\n",
              "      <td>4.5</td>\n",
              "      <td>According to the website, the style for the Ca...</td>\n",
              "      <td>1293735206</td>\n",
              "    </tr>\n",
              "  </tbody>\n",
              "</table>\n",
              "</div>"
            ],
            "text/plain": [
              "   beer_ABV  ...  review_time\n",
              "0       5.0  ...   1234817823\n",
              "1       6.2  ...   1235915097\n",
              "2       6.5  ...   1235916604\n",
              "3       5.0  ...   1234725145\n",
              "4       7.7  ...   1293735206\n",
              "\n",
              "[5 rows x 13 columns]"
            ]
          },
          "metadata": {},
          "execution_count": 4
        }
      ]
    },
    {
      "cell_type": "code",
      "metadata": {
        "colab": {
          "base_uri": "https://localhost:8080/",
          "height": 455
        },
        "id": "_4oEv5RUg89C",
        "outputId": "7ae4820d-69f9-4aba-802f-66d5d5c56337"
      },
      "source": [
        "#Viewing the last 5 entries of data\n",
        "data.tail()"
      ],
      "execution_count": 5,
      "outputs": [
        {
          "output_type": "execute_result",
          "data": {
            "text/html": [
              "<div>\n",
              "<style scoped>\n",
              "    .dataframe tbody tr th:only-of-type {\n",
              "        vertical-align: middle;\n",
              "    }\n",
              "\n",
              "    .dataframe tbody tr th {\n",
              "        vertical-align: top;\n",
              "    }\n",
              "\n",
              "    .dataframe thead th {\n",
              "        text-align: right;\n",
              "    }\n",
              "</style>\n",
              "<table border=\"1\" class=\"dataframe\">\n",
              "  <thead>\n",
              "    <tr style=\"text-align: right;\">\n",
              "      <th></th>\n",
              "      <th>beer_ABV</th>\n",
              "      <th>beer_beerId</th>\n",
              "      <th>beer_brewerId</th>\n",
              "      <th>beer_name</th>\n",
              "      <th>beer_style</th>\n",
              "      <th>review_appearance</th>\n",
              "      <th>review_palette</th>\n",
              "      <th>review_overall</th>\n",
              "      <th>review_taste</th>\n",
              "      <th>review_profileName</th>\n",
              "      <th>review_aroma</th>\n",
              "      <th>review_text</th>\n",
              "      <th>review_time</th>\n",
              "    </tr>\n",
              "  </thead>\n",
              "  <tbody>\n",
              "    <tr>\n",
              "      <th>528865</th>\n",
              "      <td>NaN</td>\n",
              "      <td>4032</td>\n",
              "      <td>3340</td>\n",
              "      <td>Dinkel Acker Dark</td>\n",
              "      <td>Munich Dunkel Lager</td>\n",
              "      <td>4.0</td>\n",
              "      <td>3.0</td>\n",
              "      <td>4.0</td>\n",
              "      <td>3.5</td>\n",
              "      <td>orangemoustache</td>\n",
              "      <td>4.0</td>\n",
              "      <td>A-pours a reddish amber that looks very nice,l...</td>\n",
              "      <td>1205212721</td>\n",
              "    </tr>\n",
              "    <tr>\n",
              "      <th>528866</th>\n",
              "      <td>NaN</td>\n",
              "      <td>4032</td>\n",
              "      <td>3340</td>\n",
              "      <td>Dinkel Acker Dark</td>\n",
              "      <td>Munich Dunkel Lager</td>\n",
              "      <td>4.0</td>\n",
              "      <td>3.5</td>\n",
              "      <td>3.0</td>\n",
              "      <td>3.0</td>\n",
              "      <td>MisterStout</td>\n",
              "      <td>3.0</td>\n",
              "      <td>I don't really have anything special to say ab...</td>\n",
              "      <td>1203490783</td>\n",
              "    </tr>\n",
              "    <tr>\n",
              "      <th>528867</th>\n",
              "      <td>NaN</td>\n",
              "      <td>4032</td>\n",
              "      <td>3340</td>\n",
              "      <td>Dinkel Acker Dark</td>\n",
              "      <td>Munich Dunkel Lager</td>\n",
              "      <td>4.0</td>\n",
              "      <td>4.0</td>\n",
              "      <td>4.5</td>\n",
              "      <td>4.0</td>\n",
              "      <td>meechum</td>\n",
              "      <td>4.5</td>\n",
              "      <td>Had this on tap at Vreny's Beirgarten A - Came...</td>\n",
              "      <td>1201320897</td>\n",
              "    </tr>\n",
              "    <tr>\n",
              "      <th>528868</th>\n",
              "      <td>NaN</td>\n",
              "      <td>4032</td>\n",
              "      <td>3340</td>\n",
              "      <td>Dinkel Acker Dark</td>\n",
              "      <td>Munich Dunkel Lager</td>\n",
              "      <td>4.0</td>\n",
              "      <td>3.0</td>\n",
              "      <td>4.0</td>\n",
              "      <td>4.0</td>\n",
              "      <td>Dodo2step</td>\n",
              "      <td>4.5</td>\n",
              "      <td>Purchased at Market Cross Pub in carlisle, PA....</td>\n",
              "      <td>1201215290</td>\n",
              "    </tr>\n",
              "    <tr>\n",
              "      <th>528869</th>\n",
              "      <td>NaN</td>\n",
              "      <td>4032</td>\n",
              "      <td>3340</td>\n",
              "      <td>Dinkel Acker Dark</td>\n",
              "      <td>Munich Dunkel Lager</td>\n",
              "      <td>4.0</td>\n",
              "      <td>4.0</td>\n",
              "      <td>4.0</td>\n",
              "      <td>4.0</td>\n",
              "      <td>jenbys2001</td>\n",
              "      <td>4.0</td>\n",
              "      <td>I ordered a mug of this beer at Schnitzelhaus,...</td>\n",
              "      <td>1200336367</td>\n",
              "    </tr>\n",
              "  </tbody>\n",
              "</table>\n",
              "</div>"
            ],
            "text/plain": [
              "        beer_ABV  ...  review_time\n",
              "528865       NaN  ...   1205212721\n",
              "528866       NaN  ...   1203490783\n",
              "528867       NaN  ...   1201320897\n",
              "528868       NaN  ...   1201215290\n",
              "528869       NaN  ...   1200336367\n",
              "\n",
              "[5 rows x 13 columns]"
            ]
          },
          "metadata": {},
          "execution_count": 5
        }
      ]
    },
    {
      "cell_type": "code",
      "metadata": {
        "id": "SJQKYaUHIqiN"
      },
      "source": [
        "#Dropping null values for review_text and beer ABV as these values are needed for evaluation.\n",
        "#Dropping these value is a very small percentage of the data: ~3.8%\n",
        "data.dropna(axis = 0, subset = ['beer_ABV', 'review_text' ], inplace = True)"
      ],
      "execution_count": 6,
      "outputs": []
    },
    {
      "cell_type": "code",
      "metadata": {
        "colab": {
          "base_uri": "https://localhost:8080/",
          "height": 505
        },
        "id": "IeyDAI_yhOR1",
        "outputId": "66535bb2-6ab2-4f69-81c9-b90a8be5e233"
      },
      "source": [
        "#Changing dtype of review time from timestamp to datatime\n",
        "from datetime import datetime as dt\n",
        "\n",
        "data['review_time'] = data['review_time'].apply(lambda x: dt.fromtimestamp(x))\n",
        "data.head()"
      ],
      "execution_count": 7,
      "outputs": [
        {
          "output_type": "execute_result",
          "data": {
            "text/html": [
              "<div>\n",
              "<style scoped>\n",
              "    .dataframe tbody tr th:only-of-type {\n",
              "        vertical-align: middle;\n",
              "    }\n",
              "\n",
              "    .dataframe tbody tr th {\n",
              "        vertical-align: top;\n",
              "    }\n",
              "\n",
              "    .dataframe thead th {\n",
              "        text-align: right;\n",
              "    }\n",
              "</style>\n",
              "<table border=\"1\" class=\"dataframe\">\n",
              "  <thead>\n",
              "    <tr style=\"text-align: right;\">\n",
              "      <th></th>\n",
              "      <th>beer_ABV</th>\n",
              "      <th>beer_beerId</th>\n",
              "      <th>beer_brewerId</th>\n",
              "      <th>beer_name</th>\n",
              "      <th>beer_style</th>\n",
              "      <th>review_appearance</th>\n",
              "      <th>review_palette</th>\n",
              "      <th>review_overall</th>\n",
              "      <th>review_taste</th>\n",
              "      <th>review_profileName</th>\n",
              "      <th>review_aroma</th>\n",
              "      <th>review_text</th>\n",
              "      <th>review_time</th>\n",
              "    </tr>\n",
              "  </thead>\n",
              "  <tbody>\n",
              "    <tr>\n",
              "      <th>0</th>\n",
              "      <td>5.0</td>\n",
              "      <td>47986</td>\n",
              "      <td>10325</td>\n",
              "      <td>Sausa Weizen</td>\n",
              "      <td>Hefeweizen</td>\n",
              "      <td>2.5</td>\n",
              "      <td>2.0</td>\n",
              "      <td>1.5</td>\n",
              "      <td>1.5</td>\n",
              "      <td>stcules</td>\n",
              "      <td>1.5</td>\n",
              "      <td>A lot of foam. But a lot. In the smell some ba...</td>\n",
              "      <td>2009-02-16 20:57:03</td>\n",
              "    </tr>\n",
              "    <tr>\n",
              "      <th>1</th>\n",
              "      <td>6.2</td>\n",
              "      <td>48213</td>\n",
              "      <td>10325</td>\n",
              "      <td>Red Moon</td>\n",
              "      <td>English Strong Ale</td>\n",
              "      <td>3.0</td>\n",
              "      <td>2.5</td>\n",
              "      <td>3.0</td>\n",
              "      <td>3.0</td>\n",
              "      <td>stcules</td>\n",
              "      <td>3.0</td>\n",
              "      <td>Dark red color, light beige foam, average. In ...</td>\n",
              "      <td>2009-03-01 13:44:57</td>\n",
              "    </tr>\n",
              "    <tr>\n",
              "      <th>2</th>\n",
              "      <td>6.5</td>\n",
              "      <td>48215</td>\n",
              "      <td>10325</td>\n",
              "      <td>Black Horse Black Beer</td>\n",
              "      <td>Foreign / Export Stout</td>\n",
              "      <td>3.0</td>\n",
              "      <td>2.5</td>\n",
              "      <td>3.0</td>\n",
              "      <td>3.0</td>\n",
              "      <td>stcules</td>\n",
              "      <td>3.0</td>\n",
              "      <td>Almost totally black. Beige foam, quite compac...</td>\n",
              "      <td>2009-03-01 14:10:04</td>\n",
              "    </tr>\n",
              "    <tr>\n",
              "      <th>3</th>\n",
              "      <td>5.0</td>\n",
              "      <td>47969</td>\n",
              "      <td>10325</td>\n",
              "      <td>Sausa Pils</td>\n",
              "      <td>German Pilsener</td>\n",
              "      <td>3.5</td>\n",
              "      <td>3.0</td>\n",
              "      <td>3.0</td>\n",
              "      <td>2.5</td>\n",
              "      <td>stcules</td>\n",
              "      <td>3.0</td>\n",
              "      <td>Golden yellow color. White, compact foam, quit...</td>\n",
              "      <td>2009-02-15 19:12:25</td>\n",
              "    </tr>\n",
              "    <tr>\n",
              "      <th>4</th>\n",
              "      <td>7.7</td>\n",
              "      <td>64883</td>\n",
              "      <td>1075</td>\n",
              "      <td>Cauldron DIPA</td>\n",
              "      <td>American Double / Imperial IPA</td>\n",
              "      <td>4.0</td>\n",
              "      <td>4.5</td>\n",
              "      <td>4.0</td>\n",
              "      <td>4.0</td>\n",
              "      <td>johnmichaelsen</td>\n",
              "      <td>4.5</td>\n",
              "      <td>According to the website, the style for the Ca...</td>\n",
              "      <td>2010-12-30 18:53:26</td>\n",
              "    </tr>\n",
              "  </tbody>\n",
              "</table>\n",
              "</div>"
            ],
            "text/plain": [
              "   beer_ABV  ...         review_time\n",
              "0       5.0  ... 2009-02-16 20:57:03\n",
              "1       6.2  ... 2009-03-01 13:44:57\n",
              "2       6.5  ... 2009-03-01 14:10:04\n",
              "3       5.0  ... 2009-02-15 19:12:25\n",
              "4       7.7  ... 2010-12-30 18:53:26\n",
              "\n",
              "[5 rows x 13 columns]"
            ]
          },
          "metadata": {},
          "execution_count": 7
        }
      ]
    },
    {
      "cell_type": "code",
      "metadata": {
        "colab": {
          "base_uri": "https://localhost:8080/",
          "height": 584
        },
        "id": "9vrEb9MujB6l",
        "outputId": "d5833a8e-99f3-4e6b-fd7c-dc77bbe096c8"
      },
      "source": [
        "#Viewing the distribution of numerical explanatory variables via histograms\n",
        "data.hist(figsize = (10,8), bins = 10, column=['beer_ABV', 'review_appearance', 'review_palette', \n",
        "                                    'review_overall', 'review_taste', 'review_aroma'])\n",
        "plt.tight_layout();"
      ],
      "execution_count": 8,
      "outputs": [
        {
          "output_type": "display_data",
          "data": {
            "image/png": "[encoded data removed]",
            "text/plain": [
              "<Figure size 720x576 with 6 Axes>"
            ]
          },
          "metadata": {
            "needs_background": "light"
          }
        }
      ]
    },
    {
      "cell_type": "code",
      "metadata": {
        "colab": {
          "base_uri": "https://localhost:8080/",
          "height": 491
        },
        "id": "r8PZCoZ_Fxjf",
        "outputId": "a555921a-c043-40e6-e319-070ffb426a6e"
      },
      "source": [
        "#Viewing the top 15 most popular types of beer\n",
        "beer_type = data.groupby('beer_style')['review_overall'].mean().reset_index().sort_values(by = 'review_overall', ascending = False)\n",
        "\n",
        "beer_type[:15].plot(x = 'beer_style', y = 'review_overall', kind = 'bar', label = '_nolegend_')\n",
        "\n",
        "def labels(y):\n",
        "    for i in range(len(beer_type[:15])):\n",
        "        plt.text(i,y.iloc[i],y.iloc[i])\n",
        "\n",
        "labels(round(beer_type['review_overall'], 2));"
      ],
      "execution_count": 9,
      "outputs": [
        {
          "output_type": "stream",
          "name": "stderr",
          "text": [
            "/usr/local/lib/python3.7/dist-packages/pandas/plotting/_matplotlib/core.py:584: UserWarning: The handle <BarContainer object of 15 artists> has a label of '_nolegend_' which cannot be automatically added to the legend.\n",
            "  ax.legend(handles, labels, loc=\"best\", title=title)\n"
          ]
        },
        {
          "output_type": "display_data",
          "data": {
            "image/png": "[encoded data removed]",
            "text/plain": [
              "<Figure size 432x288 with 1 Axes>"
            ]
          },
          "metadata": {
            "needs_background": "light"
          }
        }
      ]
    },
    {
      "cell_type": "markdown",
      "metadata": {
        "id": "TL8D-Mqj3e_V"
      },
      "source": [
        "### Question 1: Rank top 3 breweries producing strongest beer."
      ]
    },
    {
      "cell_type": "code",
      "metadata": {
        "colab": {
          "base_uri": "https://localhost:8080/",
          "height": 202
        },
        "id": "uP3XRKzwmzXi",
        "outputId": "a14de4c8-3528-48b2-f4dc-5902bdea3bf9"
      },
      "source": [
        "#Obtaining the ranking for strongest beer using groupby\n",
        "ranked_abv = data.groupby(['beer_brewerId', 'beer_name', 'beer_style'])['beer_ABV'].max().reset_index()\n",
        "ranked_abv = ranked_abv.sort_values(by = ['beer_ABV'], ascending = False)\n",
        "ranked_abv.drop_duplicates(subset = ['beer_brewerId'], keep = 'first')[:5]"
      ],
      "execution_count": 10,
      "outputs": [
        {
          "output_type": "execute_result",
          "data": {
            "text/html": [
              "<div>\n",
              "<style scoped>\n",
              "    .dataframe tbody tr th:only-of-type {\n",
              "        vertical-align: middle;\n",
              "    }\n",
              "\n",
              "    .dataframe tbody tr th {\n",
              "        vertical-align: top;\n",
              "    }\n",
              "\n",
              "    .dataframe thead th {\n",
              "        text-align: right;\n",
              "    }\n",
              "</style>\n",
              "<table border=\"1\" class=\"dataframe\">\n",
              "  <thead>\n",
              "    <tr style=\"text-align: right;\">\n",
              "      <th></th>\n",
              "      <th>beer_brewerId</th>\n",
              "      <th>beer_name</th>\n",
              "      <th>beer_style</th>\n",
              "      <th>beer_ABV</th>\n",
              "    </tr>\n",
              "  </thead>\n",
              "  <tbody>\n",
              "    <tr>\n",
              "      <th>9218</th>\n",
              "      <td>6513</td>\n",
              "      <td>Schorschbräu Schorschbock 57%</td>\n",
              "      <td>Eisbock</td>\n",
              "      <td>57.7</td>\n",
              "    </tr>\n",
              "    <tr>\n",
              "      <th>325</th>\n",
              "      <td>35</td>\n",
              "      <td>Samuel Adams Utopias</td>\n",
              "      <td>American Strong Ale</td>\n",
              "      <td>27.0</td>\n",
              "    </tr>\n",
              "    <tr>\n",
              "      <th>12434</th>\n",
              "      <td>16866</td>\n",
              "      <td>Grey Monday</td>\n",
              "      <td>American Double / Imperial Stout</td>\n",
              "      <td>19.5</td>\n",
              "    </tr>\n",
              "    <tr>\n",
              "      <th>7049</th>\n",
              "      <td>2958</td>\n",
              "      <td>Cuvée Alex Le Rouge Eisbock</td>\n",
              "      <td>Eisbock</td>\n",
              "      <td>19.5</td>\n",
              "    </tr>\n",
              "    <tr>\n",
              "      <th>13118</th>\n",
              "      <td>18796</td>\n",
              "      <td>Acero</td>\n",
              "      <td>American Strong Ale</td>\n",
              "      <td>19.2</td>\n",
              "    </tr>\n",
              "  </tbody>\n",
              "</table>\n",
              "</div>"
            ],
            "text/plain": [
              "       beer_brewerId  ... beer_ABV\n",
              "9218            6513  ...     57.7\n",
              "325               35  ...     27.0\n",
              "12434          16866  ...     19.5\n",
              "7049            2958  ...     19.5\n",
              "13118          18796  ...     19.2\n",
              "\n",
              "[5 rows x 4 columns]"
            ]
          },
          "metadata": {},
          "execution_count": 10
        }
      ]
    },
    {
      "cell_type": "markdown",
      "metadata": {
        "id": "RCL6s57iLRG_"
      },
      "source": [
        "Answer: The top 3 breweries that produce the strongest beers are listed below staring with the brewer ID with the highest ABV percentage:\n",
        "\n",
        "\n",
        "1.   Brewer ID 6513\n",
        "2.   Brewer ID 35\n",
        "\n",
        "1.   Brewer IDs 16866, 2958\n",
        "\n",
        "Ranked 3 was tied amongst 2 different brewer IDs at 19.5% ABV.\n",
        "\n",
        "\n",
        "\n",
        "\n"
      ]
    },
    {
      "cell_type": "markdown",
      "metadata": {
        "id": "12mBrAYf3Vb5"
      },
      "source": [
        "### Question 2: Which year did beer enjoy the highest rating?"
      ]
    },
    {
      "cell_type": "code",
      "metadata": {
        "id": "f6TofnCKH8FR"
      },
      "source": [
        "#Extract year fro review time\n",
        "data['Year'] = data['review_time'].apply(lambda x: x.year)"
      ],
      "execution_count": 11,
      "outputs": []
    },
    {
      "cell_type": "code",
      "metadata": {
        "colab": {
          "base_uri": "https://localhost:8080/",
          "height": 508
        },
        "id": "VrBFYOoXMtor",
        "outputId": "5f8232f6-b7d0-411b-9e4d-7388fe28c61f"
      },
      "source": [
        "#Obtaining the Year with the highest average rating score\n",
        "ratings_by_yr = data.groupby('Year')['review_overall'].mean().reset_index()\n",
        "ratings_by_yr"
      ],
      "execution_count": 12,
      "outputs": [
        {
          "output_type": "execute_result",
          "data": {
            "text/html": [
              "<div>\n",
              "<style scoped>\n",
              "    .dataframe tbody tr th:only-of-type {\n",
              "        vertical-align: middle;\n",
              "    }\n",
              "\n",
              "    .dataframe tbody tr th {\n",
              "        vertical-align: top;\n",
              "    }\n",
              "\n",
              "    .dataframe thead th {\n",
              "        text-align: right;\n",
              "    }\n",
              "</style>\n",
              "<table border=\"1\" class=\"dataframe\">\n",
              "  <thead>\n",
              "    <tr style=\"text-align: right;\">\n",
              "      <th></th>\n",
              "      <th>Year</th>\n",
              "      <th>review_overall</th>\n",
              "    </tr>\n",
              "  </thead>\n",
              "  <tbody>\n",
              "    <tr>\n",
              "      <th>0</th>\n",
              "      <td>1998</td>\n",
              "      <td>4.045455</td>\n",
              "    </tr>\n",
              "    <tr>\n",
              "      <th>1</th>\n",
              "      <td>1999</td>\n",
              "      <td>4.000000</td>\n",
              "    </tr>\n",
              "    <tr>\n",
              "      <th>2</th>\n",
              "      <td>2000</td>\n",
              "      <td>4.233333</td>\n",
              "    </tr>\n",
              "    <tr>\n",
              "      <th>3</th>\n",
              "      <td>2001</td>\n",
              "      <td>3.961896</td>\n",
              "    </tr>\n",
              "    <tr>\n",
              "      <th>4</th>\n",
              "      <td>2002</td>\n",
              "      <td>3.817551</td>\n",
              "    </tr>\n",
              "    <tr>\n",
              "      <th>5</th>\n",
              "      <td>2003</td>\n",
              "      <td>3.772807</td>\n",
              "    </tr>\n",
              "    <tr>\n",
              "      <th>6</th>\n",
              "      <td>2004</td>\n",
              "      <td>3.806792</td>\n",
              "    </tr>\n",
              "    <tr>\n",
              "      <th>7</th>\n",
              "      <td>2005</td>\n",
              "      <td>3.844327</td>\n",
              "    </tr>\n",
              "    <tr>\n",
              "      <th>8</th>\n",
              "      <td>2006</td>\n",
              "      <td>3.808826</td>\n",
              "    </tr>\n",
              "    <tr>\n",
              "      <th>9</th>\n",
              "      <td>2007</td>\n",
              "      <td>3.819898</td>\n",
              "    </tr>\n",
              "    <tr>\n",
              "      <th>10</th>\n",
              "      <td>2008</td>\n",
              "      <td>3.840391</td>\n",
              "    </tr>\n",
              "    <tr>\n",
              "      <th>11</th>\n",
              "      <td>2009</td>\n",
              "      <td>3.868685</td>\n",
              "    </tr>\n",
              "    <tr>\n",
              "      <th>12</th>\n",
              "      <td>2010</td>\n",
              "      <td>3.869430</td>\n",
              "    </tr>\n",
              "    <tr>\n",
              "      <th>13</th>\n",
              "      <td>2011</td>\n",
              "      <td>3.833394</td>\n",
              "    </tr>\n",
              "    <tr>\n",
              "      <th>14</th>\n",
              "      <td>2012</td>\n",
              "      <td>3.839082</td>\n",
              "    </tr>\n",
              "  </tbody>\n",
              "</table>\n",
              "</div>"
            ],
            "text/plain": [
              "    Year  review_overall\n",
              "0   1998        4.045455\n",
              "1   1999        4.000000\n",
              "2   2000        4.233333\n",
              "3   2001        3.961896\n",
              "4   2002        3.817551\n",
              "5   2003        3.772807\n",
              "6   2004        3.806792\n",
              "7   2005        3.844327\n",
              "8   2006        3.808826\n",
              "9   2007        3.819898\n",
              "10  2008        3.840391\n",
              "11  2009        3.868685\n",
              "12  2010        3.869430\n",
              "13  2011        3.833394\n",
              "14  2012        3.839082"
            ]
          },
          "metadata": {},
          "execution_count": 12
        }
      ]
    },
    {
      "cell_type": "markdown",
      "metadata": {
        "id": "zTxlRVZb3xGZ"
      },
      "source": [
        "Answer: 1988 enjoyed the highest average rating score."
      ]
    },
    {
      "cell_type": "code",
      "metadata": {
        "colab": {
          "base_uri": "https://localhost:8080/",
          "height": 508
        },
        "id": "Z34HpSjnNR8a",
        "outputId": "74be0dc4-6d54-4157-bb9f-13ab93f708e8"
      },
      "source": [
        "#Obtaining the year with the highest number of reviews\n",
        "rate_by_yr = data.groupby('Year')['review_overall'].count().reset_index()\n",
        "rate_by_yr.sort_values(by = ['review_overall'], ascending = False)"
      ],
      "execution_count": 13,
      "outputs": [
        {
          "output_type": "execute_result",
          "data": {
            "text/html": [
              "<div>\n",
              "<style scoped>\n",
              "    .dataframe tbody tr th:only-of-type {\n",
              "        vertical-align: middle;\n",
              "    }\n",
              "\n",
              "    .dataframe tbody tr th {\n",
              "        vertical-align: top;\n",
              "    }\n",
              "\n",
              "    .dataframe thead th {\n",
              "        text-align: right;\n",
              "    }\n",
              "</style>\n",
              "<table border=\"1\" class=\"dataframe\">\n",
              "  <thead>\n",
              "    <tr style=\"text-align: right;\">\n",
              "      <th></th>\n",
              "      <th>Year</th>\n",
              "      <th>review_overall</th>\n",
              "    </tr>\n",
              "  </thead>\n",
              "  <tbody>\n",
              "    <tr>\n",
              "      <th>13</th>\n",
              "      <td>2011</td>\n",
              "      <td>107871</td>\n",
              "    </tr>\n",
              "    <tr>\n",
              "      <th>12</th>\n",
              "      <td>2010</td>\n",
              "      <td>91342</td>\n",
              "    </tr>\n",
              "    <tr>\n",
              "      <th>11</th>\n",
              "      <td>2009</td>\n",
              "      <td>81236</td>\n",
              "    </tr>\n",
              "    <tr>\n",
              "      <th>10</th>\n",
              "      <td>2008</td>\n",
              "      <td>66594</td>\n",
              "    </tr>\n",
              "    <tr>\n",
              "      <th>9</th>\n",
              "      <td>2007</td>\n",
              "      <td>44486</td>\n",
              "    </tr>\n",
              "    <tr>\n",
              "      <th>8</th>\n",
              "      <td>2006</td>\n",
              "      <td>40730</td>\n",
              "    </tr>\n",
              "    <tr>\n",
              "      <th>7</th>\n",
              "      <td>2005</td>\n",
              "      <td>27818</td>\n",
              "    </tr>\n",
              "    <tr>\n",
              "      <th>6</th>\n",
              "      <td>2004</td>\n",
              "      <td>21306</td>\n",
              "    </tr>\n",
              "    <tr>\n",
              "      <th>5</th>\n",
              "      <td>2003</td>\n",
              "      <td>16585</td>\n",
              "    </tr>\n",
              "    <tr>\n",
              "      <th>4</th>\n",
              "      <td>2002</td>\n",
              "      <td>6843</td>\n",
              "    </tr>\n",
              "    <tr>\n",
              "      <th>14</th>\n",
              "      <td>2012</td>\n",
              "      <td>3073</td>\n",
              "    </tr>\n",
              "    <tr>\n",
              "      <th>3</th>\n",
              "      <td>2001</td>\n",
              "      <td>538</td>\n",
              "    </tr>\n",
              "    <tr>\n",
              "      <th>2</th>\n",
              "      <td>2000</td>\n",
              "      <td>30</td>\n",
              "    </tr>\n",
              "    <tr>\n",
              "      <th>0</th>\n",
              "      <td>1998</td>\n",
              "      <td>11</td>\n",
              "    </tr>\n",
              "    <tr>\n",
              "      <th>1</th>\n",
              "      <td>1999</td>\n",
              "      <td>10</td>\n",
              "    </tr>\n",
              "  </tbody>\n",
              "</table>\n",
              "</div>"
            ],
            "text/plain": [
              "    Year  review_overall\n",
              "13  2011          107871\n",
              "12  2010           91342\n",
              "11  2009           81236\n",
              "10  2008           66594\n",
              "9   2007           44486\n",
              "8   2006           40730\n",
              "7   2005           27818\n",
              "6   2004           21306\n",
              "5   2003           16585\n",
              "4   2002            6843\n",
              "14  2012            3073\n",
              "3   2001             538\n",
              "2   2000              30\n",
              "0   1998              11\n",
              "1   1999              10"
            ]
          },
          "metadata": {},
          "execution_count": 13
        }
      ]
    },
    {
      "cell_type": "markdown",
      "metadata": {
        "id": "UAbArZBm39tq"
      },
      "source": [
        "Answer: 2011 enjoyed the highest number of reviews."
      ]
    },
    {
      "cell_type": "markdown",
      "metadata": {
        "id": "P0TRD3GZ4E-B"
      },
      "source": [
        "### Question 3: Based on user's ratings, which factors are  more important?"
      ]
    },
    {
      "cell_type": "code",
      "metadata": {
        "colab": {
          "base_uri": "https://localhost:8080/",
          "height": 355
        },
        "id": "TYgC98plFGqJ",
        "outputId": "665012fa-89d2-4b78-d799-1e7e1c5d4940"
      },
      "source": [
        "#Viewing correlation matrix for numerical explanatory variables\n",
        "import seaborn as sns\n",
        "\n",
        "sns.heatmap(data.corr(), annot = True);"
      ],
      "execution_count": 14,
      "outputs": [
        {
          "output_type": "display_data",
          "data": {
            "image/png": "[encoded data removed]",
            "text/plain": [
              "<Figure size 432x288 with 2 Axes>"
            ]
          },
          "metadata": {
            "needs_background": "light"
          }
        }
      ]
    },
    {
      "cell_type": "markdown",
      "metadata": {
        "id": "Jzx3D6o94YF_"
      },
      "source": [
        "Answer: Base on this correlation matrix, review aroma is the most important factor to the overall rating since it has the highest Pearson correlation coefficient of 0.78 to overall rating score. Taste would be the second most important with a Pearson correlation coefficient of 0.72."
      ]
    },
    {
      "cell_type": "markdown",
      "metadata": {
        "id": "8MXjWV_k43Qs"
      },
      "source": [
        "### Question 4: Which 3 beers to recommend based on this data?"
      ]
    },
    {
      "cell_type": "code",
      "metadata": {
        "colab": {
          "base_uri": "https://localhost:8080/",
          "height": 414
        },
        "id": "Is-0UmdaNymE",
        "outputId": "a8ed90a8-1127-452a-f424-3f2bb6792c3b"
      },
      "source": [
        "#Obtaining ranked beers based on overall rating score, taste, and aroma. \n",
        "beer_rec = data.groupby(['beer_name', 'beer_style']).agg({'review_overall': 'mean', \n",
        "                                                          'review_taste': 'mean', \n",
        "                                                          'review_aroma': 'mean', \n",
        "                                                          'review_appearance': 'count'}).reset_index()\n",
        "beer_rec.rename(columns = {'review_appearance': 'review_count'}, inplace = True)\n",
        "beer_rec = beer_rec.sort_values(by = ['review_overall', 'review_taste', 'review_aroma'], ascending = False)\n",
        "beer_rec\n"
      ],
      "execution_count": 15,
      "outputs": [
        {
          "output_type": "execute_result",
          "data": {
            "text/html": [
              "<div>\n",
              "<style scoped>\n",
              "    .dataframe tbody tr th:only-of-type {\n",
              "        vertical-align: middle;\n",
              "    }\n",
              "\n",
              "    .dataframe tbody tr th {\n",
              "        vertical-align: top;\n",
              "    }\n",
              "\n",
              "    .dataframe thead th {\n",
              "        text-align: right;\n",
              "    }\n",
              "</style>\n",
              "<table border=\"1\" class=\"dataframe\">\n",
              "  <thead>\n",
              "    <tr style=\"text-align: right;\">\n",
              "      <th></th>\n",
              "      <th>beer_name</th>\n",
              "      <th>beer_style</th>\n",
              "      <th>review_overall</th>\n",
              "      <th>review_taste</th>\n",
              "      <th>review_aroma</th>\n",
              "      <th>review_count</th>\n",
              "    </tr>\n",
              "  </thead>\n",
              "  <tbody>\n",
              "    <tr>\n",
              "      <th>42</th>\n",
              "      <td>10th Anniversary Strong Belgian</td>\n",
              "      <td>Belgian Strong Dark Ale</td>\n",
              "      <td>5.0</td>\n",
              "      <td>5.0</td>\n",
              "      <td>5.0</td>\n",
              "      <td>1</td>\n",
              "    </tr>\n",
              "    <tr>\n",
              "      <th>1589</th>\n",
              "      <td>Bigwood Oak Aged Stout</td>\n",
              "      <td>American Double / Imperial Stout</td>\n",
              "      <td>5.0</td>\n",
              "      <td>5.0</td>\n",
              "      <td>5.0</td>\n",
              "      <td>1</td>\n",
              "    </tr>\n",
              "    <tr>\n",
              "      <th>2183</th>\n",
              "      <td>Bourbon Barrel Coffee Night Train</td>\n",
              "      <td>American Porter</td>\n",
              "      <td>5.0</td>\n",
              "      <td>5.0</td>\n",
              "      <td>5.0</td>\n",
              "      <td>1</td>\n",
              "    </tr>\n",
              "    <tr>\n",
              "      <th>2864</th>\n",
              "      <td>Celtic Red</td>\n",
              "      <td>Irish Red Ale</td>\n",
              "      <td>5.0</td>\n",
              "      <td>5.0</td>\n",
              "      <td>5.0</td>\n",
              "      <td>1</td>\n",
              "    </tr>\n",
              "    <tr>\n",
              "      <th>3109</th>\n",
              "      <td>Christmas Stark Lager</td>\n",
              "      <td>Märzen / Oktoberfest</td>\n",
              "      <td>5.0</td>\n",
              "      <td>5.0</td>\n",
              "      <td>5.0</td>\n",
              "      <td>1</td>\n",
              "    </tr>\n",
              "    <tr>\n",
              "      <th>...</th>\n",
              "      <td>...</td>\n",
              "      <td>...</td>\n",
              "      <td>...</td>\n",
              "      <td>...</td>\n",
              "      <td>...</td>\n",
              "      <td>...</td>\n",
              "    </tr>\n",
              "    <tr>\n",
              "      <th>12307</th>\n",
              "      <td>Sunshine Coast Noosa Premium Ale</td>\n",
              "      <td>American Adjunct Lager</td>\n",
              "      <td>1.0</td>\n",
              "      <td>1.0</td>\n",
              "      <td>1.0</td>\n",
              "      <td>1</td>\n",
              "    </tr>\n",
              "    <tr>\n",
              "      <th>12374</th>\n",
              "      <td>Swan MID</td>\n",
              "      <td>Light Lager</td>\n",
              "      <td>1.0</td>\n",
              "      <td>1.0</td>\n",
              "      <td>1.0</td>\n",
              "      <td>1</td>\n",
              "    </tr>\n",
              "    <tr>\n",
              "      <th>12494</th>\n",
              "      <td>Tango</td>\n",
              "      <td>Fruit / Vegetable Beer</td>\n",
              "      <td>1.0</td>\n",
              "      <td>1.0</td>\n",
              "      <td>1.0</td>\n",
              "      <td>1</td>\n",
              "    </tr>\n",
              "    <tr>\n",
              "      <th>14180</th>\n",
              "      <td>Zhigulevskoye Lubitelskoye</td>\n",
              "      <td>American Adjunct Lager</td>\n",
              "      <td>1.0</td>\n",
              "      <td>1.0</td>\n",
              "      <td>1.0</td>\n",
              "      <td>1</td>\n",
              "    </tr>\n",
              "    <tr>\n",
              "      <th>14250</th>\n",
              "      <td>Ô Fruit Framboise</td>\n",
              "      <td>Fruit / Vegetable Beer</td>\n",
              "      <td>1.0</td>\n",
              "      <td>1.0</td>\n",
              "      <td>1.0</td>\n",
              "      <td>2</td>\n",
              "    </tr>\n",
              "  </tbody>\n",
              "</table>\n",
              "<p>14265 rows × 6 columns</p>\n",
              "</div>"
            ],
            "text/plain": [
              "                               beer_name  ... review_count\n",
              "42       10th Anniversary Strong Belgian  ...            1\n",
              "1589              Bigwood Oak Aged Stout  ...            1\n",
              "2183   Bourbon Barrel Coffee Night Train  ...            1\n",
              "2864                          Celtic Red  ...            1\n",
              "3109               Christmas Stark Lager  ...            1\n",
              "...                                  ...  ...          ...\n",
              "12307   Sunshine Coast Noosa Premium Ale  ...            1\n",
              "12374                           Swan MID  ...            1\n",
              "12494                              Tango  ...            1\n",
              "14180         Zhigulevskoye Lubitelskoye  ...            1\n",
              "14250                  Ô Fruit Framboise  ...            2\n",
              "\n",
              "[14265 rows x 6 columns]"
            ]
          },
          "metadata": {},
          "execution_count": 15
        }
      ]
    },
    {
      "cell_type": "code",
      "metadata": {
        "colab": {
          "base_uri": "https://localhost:8080/",
          "height": 355
        },
        "id": "xOMwv5w06E_W",
        "outputId": "13bbea27-1db3-4b33-e493-fbca5a60ab5a"
      },
      "source": [
        "#Removing beers that have review counts below the median\n",
        "beer_rec = beer_rec[beer_rec['review_count'] >= beer_rec['review_count'].mean()]\n",
        "beer_rec[:10]"
      ],
      "execution_count": 16,
      "outputs": [
        {
          "output_type": "execute_result",
          "data": {
            "text/html": [
              "<div>\n",
              "<style scoped>\n",
              "    .dataframe tbody tr th:only-of-type {\n",
              "        vertical-align: middle;\n",
              "    }\n",
              "\n",
              "    .dataframe tbody tr th {\n",
              "        vertical-align: top;\n",
              "    }\n",
              "\n",
              "    .dataframe thead th {\n",
              "        text-align: right;\n",
              "    }\n",
              "</style>\n",
              "<table border=\"1\" class=\"dataframe\">\n",
              "  <thead>\n",
              "    <tr style=\"text-align: right;\">\n",
              "      <th></th>\n",
              "      <th>beer_name</th>\n",
              "      <th>beer_style</th>\n",
              "      <th>review_overall</th>\n",
              "      <th>review_taste</th>\n",
              "      <th>review_aroma</th>\n",
              "      <th>review_count</th>\n",
              "    </tr>\n",
              "  </thead>\n",
              "  <tbody>\n",
              "    <tr>\n",
              "      <th>11775</th>\n",
              "      <td>Southampton Berliner Weisse</td>\n",
              "      <td>Berliner Weissbier</td>\n",
              "      <td>4.768293</td>\n",
              "      <td>4.390244</td>\n",
              "      <td>4.560976</td>\n",
              "      <td>41</td>\n",
              "    </tr>\n",
              "    <tr>\n",
              "      <th>3129</th>\n",
              "      <td>Citra DIPA</td>\n",
              "      <td>American Double / Imperial IPA</td>\n",
              "      <td>4.630952</td>\n",
              "      <td>4.373016</td>\n",
              "      <td>4.573413</td>\n",
              "      <td>252</td>\n",
              "    </tr>\n",
              "    <tr>\n",
              "      <th>2682</th>\n",
              "      <td>Cantillon Blåbær Lambik</td>\n",
              "      <td>Lambic - Fruit</td>\n",
              "      <td>4.628205</td>\n",
              "      <td>4.493590</td>\n",
              "      <td>4.628205</td>\n",
              "      <td>156</td>\n",
              "    </tr>\n",
              "    <tr>\n",
              "      <th>5751</th>\n",
              "      <td>Heady Topper</td>\n",
              "      <td>American Double / Imperial IPA</td>\n",
              "      <td>4.625800</td>\n",
              "      <td>4.405117</td>\n",
              "      <td>4.608742</td>\n",
              "      <td>469</td>\n",
              "    </tr>\n",
              "    <tr>\n",
              "      <th>4700</th>\n",
              "      <td>Founders CBS Imperial Stout</td>\n",
              "      <td>American Double / Imperial Stout</td>\n",
              "      <td>4.591052</td>\n",
              "      <td>4.579278</td>\n",
              "      <td>4.697017</td>\n",
              "      <td>637</td>\n",
              "    </tr>\n",
              "    <tr>\n",
              "      <th>3456</th>\n",
              "      <td>Cuir (100% Bourbon Barrel Aged)</td>\n",
              "      <td>Old Ale</td>\n",
              "      <td>4.529412</td>\n",
              "      <td>4.294118</td>\n",
              "      <td>4.549020</td>\n",
              "      <td>51</td>\n",
              "    </tr>\n",
              "    <tr>\n",
              "      <th>8064</th>\n",
              "      <td>Masala Mama India Pale Ale</td>\n",
              "      <td>American IPA</td>\n",
              "      <td>4.488671</td>\n",
              "      <td>4.332326</td>\n",
              "      <td>4.397281</td>\n",
              "      <td>662</td>\n",
              "    </tr>\n",
              "    <tr>\n",
              "      <th>6353</th>\n",
              "      <td>Humulus Lager</td>\n",
              "      <td>American Double / Imperial Pilsner</td>\n",
              "      <td>4.479452</td>\n",
              "      <td>4.239726</td>\n",
              "      <td>4.493151</td>\n",
              "      <td>73</td>\n",
              "    </tr>\n",
              "    <tr>\n",
              "      <th>200</th>\n",
              "      <td>5th Anniversary Ale</td>\n",
              "      <td>American Double / Imperial IPA</td>\n",
              "      <td>4.475610</td>\n",
              "      <td>4.219512</td>\n",
              "      <td>4.500000</td>\n",
              "      <td>41</td>\n",
              "    </tr>\n",
              "    <tr>\n",
              "      <th>11875</th>\n",
              "      <td>Splinter Gold</td>\n",
              "      <td>American Wild Ale</td>\n",
              "      <td>4.460784</td>\n",
              "      <td>4.431373</td>\n",
              "      <td>4.470588</td>\n",
              "      <td>51</td>\n",
              "    </tr>\n",
              "  </tbody>\n",
              "</table>\n",
              "</div>"
            ],
            "text/plain": [
              "                             beer_name  ... review_count\n",
              "11775      Southampton Berliner Weisse  ...           41\n",
              "3129                        Citra DIPA  ...          252\n",
              "2682           Cantillon Blåbær Lambik  ...          156\n",
              "5751                      Heady Topper  ...          469\n",
              "4700       Founders CBS Imperial Stout  ...          637\n",
              "3456   Cuir (100% Bourbon Barrel Aged)  ...           51\n",
              "8064        Masala Mama India Pale Ale  ...          662\n",
              "6353                     Humulus Lager  ...           73\n",
              "200                5th Anniversary Ale  ...           41\n",
              "11875                    Splinter Gold  ...           51\n",
              "\n",
              "[10 rows x 6 columns]"
            ]
          },
          "metadata": {},
          "execution_count": 16
        }
      ]
    },
    {
      "cell_type": "markdown",
      "metadata": {
        "id": "hj69zUiC5IF-"
      },
      "source": [
        "The 3 beers that I would recommend (in no particular order) would be: Southampton Berliner Weisse, Citra DIPA, and Cantillon Blåbær Lambik.\n",
        "\n",
        "These beers are chosen because the average scores for overall rating, taste, and aroma are high. Additionally, the beers selected had a review count higher than average total review counts. "
      ]
    },
    {
      "cell_type": "markdown",
      "metadata": {
        "id": "pq8axorGAE-U"
      },
      "source": [
        "### Question 5: Which beer styles seem to be a favorite based on written reviews?"
      ]
    },
    {
      "cell_type": "code",
      "metadata": {
        "colab": {
          "base_uri": "https://localhost:8080/"
        },
        "id": "l-g0SRBxz7ma",
        "outputId": "903f08ca-268b-4df9-a74e-57b4c9a2cc85"
      },
      "source": [
        "#Tokenizing words\n",
        "import nltk\n",
        "from textblob import TextBlob, Word\n",
        "from nltk.corpus import stopwords\n",
        "\n",
        "nltk.download('punkt')\n",
        "nltk.download('stopwords')\n",
        "\n",
        "data ['review_text'] = data['review_text'].astype('str')\n",
        "\n",
        "#Adding tokenized text as an attribute\n",
        "data['tokenized_text'] = data['review_text'].apply(lambda x: nltk.word_tokenize(x.lower()))"
      ],
      "execution_count": 17,
      "outputs": [
        {
          "output_type": "stream",
          "name": "stdout",
          "text": [
            "[nltk_data] Downloading package punkt to /root/nltk_data...\n",
            "[nltk_data]   Package punkt is already up-to-date!\n",
            "[nltk_data] Downloading package stopwords to /root/nltk_data...\n",
            "[nltk_data]   Package stopwords is already up-to-date!\n"
          ]
        }
      ]
    },
    {
      "cell_type": "code",
      "metadata": {
        "colab": {
          "base_uri": "https://localhost:8080/"
        },
        "id": "HLKGI5xUAY29",
        "outputId": "2f14e512-e8c8-4e51-d906-a29d0abf26f1"
      },
      "source": [
        "#List of stopwords\n",
        "stop_words = list(stopwords.words('english'))\n",
        "print (stop_words)"
      ],
      "execution_count": 18,
      "outputs": [
        {
          "output_type": "stream",
          "name": "stdout",
          "text": [
            "['i', 'me', 'my', 'myself', 'we', 'our', 'ours', 'ourselves', 'you', \"you're\", \"you've\", \"you'll\", \"you'd\", 'your', 'yours', 'yourself', 'yourselves', 'he', 'him', 'his', 'himself', 'she', \"she's\", 'her', 'hers', 'herself', 'it', \"it's\", 'its', 'itself', 'they', 'them', 'their', 'theirs', 'themselves', 'what', 'which', 'who', 'whom', 'this', 'that', \"that'll\", 'these', 'those', 'am', 'is', 'are', 'was', 'were', 'be', 'been', 'being', 'have', 'has', 'had', 'having', 'do', 'does', 'did', 'doing', 'a', 'an', 'the', 'and', 'but', 'if', 'or', 'because', 'as', 'until', 'while', 'of', 'at', 'by', 'for', 'with', 'about', 'against', 'between', 'into', 'through', 'during', 'before', 'after', 'above', 'below', 'to', 'from', 'up', 'down', 'in', 'out', 'on', 'off', 'over', 'under', 'again', 'further', 'then', 'once', 'here', 'there', 'when', 'where', 'why', 'how', 'all', 'any', 'both', 'each', 'few', 'more', 'most', 'other', 'some', 'such', 'no', 'nor', 'not', 'only', 'own', 'same', 'so', 'than', 'too', 'very', 's', 't', 'can', 'will', 'just', 'don', \"don't\", 'should', \"should've\", 'now', 'd', 'll', 'm', 'o', 're', 've', 'y', 'ain', 'aren', \"aren't\", 'couldn', \"couldn't\", 'didn', \"didn't\", 'doesn', \"doesn't\", 'hadn', \"hadn't\", 'hasn', \"hasn't\", 'haven', \"haven't\", 'isn', \"isn't\", 'ma', 'mightn', \"mightn't\", 'mustn', \"mustn't\", 'needn', \"needn't\", 'shan', \"shan't\", 'shouldn', \"shouldn't\", 'wasn', \"wasn't\", 'weren', \"weren't\", 'won', \"won't\", 'wouldn', \"wouldn't\"]\n"
          ]
        }
      ]
    },
    {
      "cell_type": "code",
      "metadata": {
        "id": "_6po8L5aFf5b"
      },
      "source": [
        "#Removing stopwords and adding new lists as attribute\n",
        "from nltk.stem import WordNetLemmatizer, PorterStemmer\n",
        "\n",
        "data['stopwords_removal'] = data['tokenized_text'].apply(lambda x: [word for word in x if word not in stop_words])"
      ],
      "execution_count": 19,
      "outputs": []
    },
    {
      "cell_type": "code",
      "metadata": {
        "colab": {
          "base_uri": "https://localhost:8080/"
        },
        "id": "qKrV9TDVJc-e",
        "outputId": "ebb15716-c32e-408b-9412-746be0f4757d"
      },
      "source": [
        "nltk.download('wordnet')\n",
        "from nltk.stem import WordNetLemmatizer, PorterStemmer\n",
        "\n",
        "#Lemmatizing and Stemming lists of words and adding new lists as attribute\n",
        "data['lem_stem'] = data['stopwords_removal'].apply(lambda x: [Word(w).lemmatize() for w in x])\n",
        "data['lem_stem'] = data['lem_stem'].apply(lambda x: [PorterStemmer().stem(w) for w in x])\n",
        "data['lem_stem'] = data['lem_stem'].apply(lambda x: \" \".join(x))\n",
        "\n",
        "#Adding polarity of tweets as new attributes\n",
        "data['polarity'] = data['lem_stem'].apply(lambda x: TextBlob(x).sentiment.polarity)"
      ],
      "execution_count": 20,
      "outputs": [
        {
          "output_type": "stream",
          "name": "stdout",
          "text": [
            "[nltk_data] Downloading package wordnet to /root/nltk_data...\n",
            "[nltk_data]   Package wordnet is already up-to-date!\n"
          ]
        }
      ]
    },
    {
      "cell_type": "code",
      "metadata": {
        "colab": {
          "base_uri": "https://localhost:8080/",
          "height": 815
        },
        "id": "AEVVf_oprlto",
        "outputId": "dfe99859-df7f-42fb-8560-a88e3e74f489"
      },
      "source": [
        "data[['review_overall', 'polarity']][:25]"
      ],
      "execution_count": 21,
      "outputs": [
        {
          "output_type": "execute_result",
          "data": {
            "text/html": [
              "<div>\n",
              "<style scoped>\n",
              "    .dataframe tbody tr th:only-of-type {\n",
              "        vertical-align: middle;\n",
              "    }\n",
              "\n",
              "    .dataframe tbody tr th {\n",
              "        vertical-align: top;\n",
              "    }\n",
              "\n",
              "    .dataframe thead th {\n",
              "        text-align: right;\n",
              "    }\n",
              "</style>\n",
              "<table border=\"1\" class=\"dataframe\">\n",
              "  <thead>\n",
              "    <tr style=\"text-align: right;\">\n",
              "      <th></th>\n",
              "      <th>review_overall</th>\n",
              "      <th>polarity</th>\n",
              "    </tr>\n",
              "  </thead>\n",
              "  <tbody>\n",
              "    <tr>\n",
              "      <th>0</th>\n",
              "      <td>1.5</td>\n",
              "      <td>0.134091</td>\n",
              "    </tr>\n",
              "    <tr>\n",
              "      <th>1</th>\n",
              "      <td>3.0</td>\n",
              "      <td>-0.004545</td>\n",
              "    </tr>\n",
              "    <tr>\n",
              "      <th>2</th>\n",
              "      <td>3.0</td>\n",
              "      <td>0.066667</td>\n",
              "    </tr>\n",
              "    <tr>\n",
              "      <th>3</th>\n",
              "      <td>3.0</td>\n",
              "      <td>0.312222</td>\n",
              "    </tr>\n",
              "    <tr>\n",
              "      <th>4</th>\n",
              "      <td>4.0</td>\n",
              "      <td>0.156349</td>\n",
              "    </tr>\n",
              "    <tr>\n",
              "      <th>5</th>\n",
              "      <td>3.0</td>\n",
              "      <td>0.213492</td>\n",
              "    </tr>\n",
              "    <tr>\n",
              "      <th>6</th>\n",
              "      <td>3.5</td>\n",
              "      <td>0.366667</td>\n",
              "    </tr>\n",
              "    <tr>\n",
              "      <th>7</th>\n",
              "      <td>3.0</td>\n",
              "      <td>0.298444</td>\n",
              "    </tr>\n",
              "    <tr>\n",
              "      <th>8</th>\n",
              "      <td>4.0</td>\n",
              "      <td>0.306667</td>\n",
              "    </tr>\n",
              "    <tr>\n",
              "      <th>9</th>\n",
              "      <td>4.5</td>\n",
              "      <td>0.122193</td>\n",
              "    </tr>\n",
              "    <tr>\n",
              "      <th>10</th>\n",
              "      <td>5.0</td>\n",
              "      <td>0.189429</td>\n",
              "    </tr>\n",
              "    <tr>\n",
              "      <th>11</th>\n",
              "      <td>4.0</td>\n",
              "      <td>0.200233</td>\n",
              "    </tr>\n",
              "    <tr>\n",
              "      <th>12</th>\n",
              "      <td>4.0</td>\n",
              "      <td>0.209524</td>\n",
              "    </tr>\n",
              "    <tr>\n",
              "      <th>13</th>\n",
              "      <td>3.5</td>\n",
              "      <td>0.320057</td>\n",
              "    </tr>\n",
              "    <tr>\n",
              "      <th>14</th>\n",
              "      <td>3.0</td>\n",
              "      <td>-0.090000</td>\n",
              "    </tr>\n",
              "    <tr>\n",
              "      <th>15</th>\n",
              "      <td>2.0</td>\n",
              "      <td>0.252579</td>\n",
              "    </tr>\n",
              "    <tr>\n",
              "      <th>16</th>\n",
              "      <td>4.0</td>\n",
              "      <td>0.238889</td>\n",
              "    </tr>\n",
              "    <tr>\n",
              "      <th>17</th>\n",
              "      <td>4.5</td>\n",
              "      <td>0.179167</td>\n",
              "    </tr>\n",
              "    <tr>\n",
              "      <th>18</th>\n",
              "      <td>4.0</td>\n",
              "      <td>0.064167</td>\n",
              "    </tr>\n",
              "    <tr>\n",
              "      <th>19</th>\n",
              "      <td>4.0</td>\n",
              "      <td>0.245541</td>\n",
              "    </tr>\n",
              "    <tr>\n",
              "      <th>20</th>\n",
              "      <td>4.5</td>\n",
              "      <td>0.255556</td>\n",
              "    </tr>\n",
              "    <tr>\n",
              "      <th>21</th>\n",
              "      <td>4.0</td>\n",
              "      <td>0.417857</td>\n",
              "    </tr>\n",
              "    <tr>\n",
              "      <th>22</th>\n",
              "      <td>4.5</td>\n",
              "      <td>0.244907</td>\n",
              "    </tr>\n",
              "    <tr>\n",
              "      <th>23</th>\n",
              "      <td>5.0</td>\n",
              "      <td>0.489242</td>\n",
              "    </tr>\n",
              "    <tr>\n",
              "      <th>24</th>\n",
              "      <td>4.5</td>\n",
              "      <td>0.153788</td>\n",
              "    </tr>\n",
              "  </tbody>\n",
              "</table>\n",
              "</div>"
            ],
            "text/plain": [
              "    review_overall  polarity\n",
              "0              1.5  0.134091\n",
              "1              3.0 -0.004545\n",
              "2              3.0  0.066667\n",
              "3              3.0  0.312222\n",
              "4              4.0  0.156349\n",
              "5              3.0  0.213492\n",
              "6              3.5  0.366667\n",
              "7              3.0  0.298444\n",
              "8              4.0  0.306667\n",
              "9              4.5  0.122193\n",
              "10             5.0  0.189429\n",
              "11             4.0  0.200233\n",
              "12             4.0  0.209524\n",
              "13             3.5  0.320057\n",
              "14             3.0 -0.090000\n",
              "15             2.0  0.252579\n",
              "16             4.0  0.238889\n",
              "17             4.5  0.179167\n",
              "18             4.0  0.064167\n",
              "19             4.0  0.245541\n",
              "20             4.5  0.255556\n",
              "21             4.0  0.417857\n",
              "22             4.5  0.244907\n",
              "23             5.0  0.489242\n",
              "24             4.5  0.153788"
            ]
          },
          "metadata": {},
          "execution_count": 21
        }
      ]
    },
    {
      "cell_type": "code",
      "metadata": {
        "colab": {
          "base_uri": "https://localhost:8080/",
          "height": 414
        },
        "id": "Ln82dSIZhN-a",
        "outputId": "43fdb364-f51c-4142-e48c-2543ff0a98a0"
      },
      "source": [
        "#Ranking beer style by polarity score\n",
        "beer_style = data.groupby('beer_style')['polarity'].mean().reset_index()\n",
        "beer_style.sort_values(by = 'polarity', ascending = False, inplace = True)\n",
        "beer_style"
      ],
      "execution_count": 34,
      "outputs": [
        {
          "output_type": "execute_result",
          "data": {
            "text/html": [
              "<div>\n",
              "<style scoped>\n",
              "    .dataframe tbody tr th:only-of-type {\n",
              "        vertical-align: middle;\n",
              "    }\n",
              "\n",
              "    .dataframe tbody tr th {\n",
              "        vertical-align: top;\n",
              "    }\n",
              "\n",
              "    .dataframe thead th {\n",
              "        text-align: right;\n",
              "    }\n",
              "</style>\n",
              "<table border=\"1\" class=\"dataframe\">\n",
              "  <thead>\n",
              "    <tr style=\"text-align: right;\">\n",
              "      <th></th>\n",
              "      <th>beer_style</th>\n",
              "      <th>polarity</th>\n",
              "    </tr>\n",
              "  </thead>\n",
              "  <tbody>\n",
              "    <tr>\n",
              "      <th>99</th>\n",
              "      <td>Vienna Lager</td>\n",
              "      <td>0.252282</td>\n",
              "    </tr>\n",
              "    <tr>\n",
              "      <th>38</th>\n",
              "      <td>Dortmunder / Export Lager</td>\n",
              "      <td>0.251540</td>\n",
              "    </tr>\n",
              "    <tr>\n",
              "      <th>82</th>\n",
              "      <td>Märzen / Oktoberfest</td>\n",
              "      <td>0.229882</td>\n",
              "    </tr>\n",
              "    <tr>\n",
              "      <th>65</th>\n",
              "      <td>Hefeweizen</td>\n",
              "      <td>0.225795</td>\n",
              "    </tr>\n",
              "    <tr>\n",
              "      <th>85</th>\n",
              "      <td>Pumpkin Ale</td>\n",
              "      <td>0.225121</td>\n",
              "    </tr>\n",
              "    <tr>\n",
              "      <th>...</th>\n",
              "      <td>...</td>\n",
              "      <td>...</td>\n",
              "    </tr>\n",
              "    <tr>\n",
              "      <th>75</th>\n",
              "      <td>Lambic - Unblended</td>\n",
              "      <td>0.138101</td>\n",
              "    </tr>\n",
              "    <tr>\n",
              "      <th>50</th>\n",
              "      <td>English Stout</td>\n",
              "      <td>0.136609</td>\n",
              "    </tr>\n",
              "    <tr>\n",
              "      <th>13</th>\n",
              "      <td>American Malt Liquor</td>\n",
              "      <td>0.134966</td>\n",
              "    </tr>\n",
              "    <tr>\n",
              "      <th>64</th>\n",
              "      <td>Happoshu</td>\n",
              "      <td>0.128067</td>\n",
              "    </tr>\n",
              "    <tr>\n",
              "      <th>77</th>\n",
              "      <td>Low Alcohol Beer</td>\n",
              "      <td>0.109477</td>\n",
              "    </tr>\n",
              "  </tbody>\n",
              "</table>\n",
              "<p>104 rows × 2 columns</p>\n",
              "</div>"
            ],
            "text/plain": [
              "                   beer_style  polarity\n",
              "99               Vienna Lager  0.252282\n",
              "38  Dortmunder / Export Lager  0.251540\n",
              "82       Märzen / Oktoberfest  0.229882\n",
              "65                 Hefeweizen  0.225795\n",
              "85                Pumpkin Ale  0.225121\n",
              "..                        ...       ...\n",
              "75         Lambic - Unblended  0.138101\n",
              "50              English Stout  0.136609\n",
              "13       American Malt Liquor  0.134966\n",
              "64                   Happoshu  0.128067\n",
              "77           Low Alcohol Beer  0.109477\n",
              "\n",
              "[104 rows x 2 columns]"
            ]
          },
          "metadata": {},
          "execution_count": 34
        }
      ]
    },
    {
      "cell_type": "markdown",
      "metadata": {
        "id": "SpKCSIh6ioRS"
      },
      "source": [
        "Answer: The favorite beer style based on written reviews is Vienna Lager with an average polarity score of 0.252."
      ]
    },
    {
      "cell_type": "markdown",
      "metadata": {
        "id": "mqq5aScNi0hu"
      },
      "source": [
        "### Question 6: How does written reviews compare to overall rating scores?"
      ]
    },
    {
      "cell_type": "code",
      "metadata": {
        "id": "nCCvBgOLfPme"
      },
      "source": [
        "data.reset_index(drop = True, inplace = True)"
      ],
      "execution_count": 25,
      "outputs": []
    },
    {
      "cell_type": "code",
      "metadata": {
        "id": "P94t6pw0AEgI"
      },
      "source": [
        "#Adding terms for rating scores and polarity scores\n",
        "review = []\n",
        "\n",
        "for i in range(len(data)):\n",
        "  if data['review_overall'].iloc[i] == 3:\n",
        "    review.append('neutral')\n",
        "  elif data['review_overall'].iloc[i] < 3:\n",
        "    review.append('bad')\n",
        "  else:\n",
        "    review.append('good')\n",
        "\n",
        "polarity = []\n",
        "\n",
        "for i in range(len(data)):\n",
        "  if data['polarity'].iloc[i] < -0.1:\n",
        "    polarity.append('bad')\n",
        "  elif data['polarity'].iloc[i] > 0.1:\n",
        "    polarity.append('good')\n",
        "  else:\n",
        "    polarity.append('neutral')\n",
        "\n",
        "data['reivew_rank'] = review\n",
        "data['polarity_rank'] = polarity"
      ],
      "execution_count": 32,
      "outputs": []
    },
    {
      "cell_type": "code",
      "metadata": {
        "colab": {
          "base_uri": "https://localhost:8080/"
        },
        "id": "4MtqAqW73ff-",
        "outputId": "14bc0fc4-7717-4800-fca6-1d1ae9049803"
      },
      "source": [
        "#Calculating the percentage of unmatched scores\n",
        "unmatched_ranks = len(data[data['reivew_rank'] != data['polarity_rank']])\n",
        "percent_unmatched = (unmatched_ranks/len(data))*100\n",
        "print(\"The percentage of unmatched polarity scores to rating scores is:\", percent_unmatched, '%')"
      ],
      "execution_count": 38,
      "outputs": [
        {
          "output_type": "stream",
          "name": "stdout",
          "text": [
            "The percentage of unmatched polarity scores to rating scores is: 29.21177722317606 %\n"
          ]
        }
      ]
    },
    {
      "cell_type": "markdown",
      "metadata": {
        "id": "-IGzL8iXkWWK"
      },
      "source": [
        "Answer: About 29% of the polarity results do not align or reflect the overall rating scores. Therefore, 71% of the written reviews reflected the overall rating scores.\n",
        "\n",
        "Polarity scores were grouped into \"bad\" (scores < -0.1), \"good\" (scores > 0.1), and \"neutral\". \n",
        "\n",
        "Overall rating scores were grouped in \"bad\" (scores < 3), \"good\" (scores > 3), and \"neutral\" (scores = 3).\n",
        "\n",
        "These groupings for rating scores and polarity score were compared to see if they match. "
      ]
    },
    {
      "cell_type": "code",
      "metadata": {
        "id": "D0z6n91llPdz"
      },
      "source": [
        ""
      ],
      "execution_count": null,
      "outputs": []
    }
  ]
}